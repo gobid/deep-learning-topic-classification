{
 "cells": [
  {
   "cell_type": "markdown",
   "metadata": {},
   "source": [
    "## Character Level ConvNets project"
   ]
  },
  {
   "cell_type": "markdown",
   "metadata": {},
   "source": [
    "## Load Datasets\n"
   ]
  },
  {
   "cell_type": "code",
   "execution_count": 161,
   "metadata": {
    "collapsed": false
   },
   "outputs": [],
   "source": [
    "import tensorflow as tf\n",
    "import numpy as np\n",
    "import math\n",
    "import timeit\n",
    "import matplotlib.pyplot as plt\n",
    "%matplotlib inline\n",
    "import csv\n",
    "import pandas as pd\n",
    "from tf_utils import load_dataset, random_mini_batches, convert_to_one_hot, predict\n",
    "import copy\n"
   ]
  },
  {
   "cell_type": "code",
   "execution_count": 162,
   "metadata": {
    "collapsed": false
   },
   "outputs": [
    {
     "name": "stdout",
     "output_type": "stream",
     "text": [
      "0      why doesn't an optical mouse work on a glass t...\n",
      "1      What is the best off-road motorcycle trail ?lo...\n",
      "2      What is Trans Fat? How to reduce that?I heard ...\n",
      "3      How many planes Fedex has?I heard that it is t...\n",
      "4      In the san francisco bay area, does it make se...\n",
      "5      What's the best way to clean a keyboard?I have...\n",
      "6      Why do people blush when they are embarrassed?...\n",
      "7      Is Lin Qingxia (aka Brigitte Lin) \"the most be...\n",
      "8      What is the origin of \"foobar\"?I want to know ...\n",
      "9      How the human species evolved?How the human sp...\n",
      "10     Who said the statement below and what does it ...\n",
      "11     How do I find an out of print book?When I was ...\n",
      "12     What are some tips on finding a good mortgage ...\n",
      "13     what's the best way to create a bootable windo...\n",
      "14     what is the reason for the increasing divorce ...\n",
      "15     What is an \"imaginary number\"?What is an \"imag...\n",
      "16     Faxing a pizzawould we be able to fax a pizza ...\n",
      "17     What are good sources to find out about new go...\n",
      "18     space missionsWhy are we spending so much mone...\n",
      "19     How a black hole is formed?I would like to kno...\n",
      "20     Heavy waterwhat is the role that heavy water p...\n",
      "21     When will Her Majesty be released in Dvd forma...\n",
      "22     Is a transponder required to fly in class C ai...\n",
      "23     How to get rid of a beehive?Who can tell me ho...\n",
      "24     Nice apartment building near SBC Park?Any reco...\n",
      "25     What are world's 3 smallest nations?i.e.&#xd;<...\n",
      "26     What is the best riddle that you know?I'm tryi...\n",
      "27     Economics of running a restaurant?Running a re...\n",
      "28     Why do gas stations mix ethanol into gas?Why d...\n",
      "29     Why we are not using the sea waves to generate...\n",
      "                             ...                        \n",
      "970    What movie or show is the line \"easy on the ha...\n",
      "971    can you tune a violin to include a C string?na...\n",
      "972    I want a website that i can download free iran...\n",
      "973    what is the best email service?other than yaho...\n",
      "974    How can I form my own political party?nanthe o...\n",
      "975    Does the Apply Vally Branch Library n Californ...\n",
      "976    any one who favors the lord can answer my ques...\n",
      "977    how do you greet in arabian?how do you say hi,...\n",
      "978    Is Bush going to be empeached for his dirty de...\n",
      "979    what vitamins that build muscles and speed?nan...\n",
      "980    hard and soft ecotourist?nanEcotourism is loos...\n",
      "981    Where can i find instructions/diagrams on how ...\n",
      "982    Are you Left Handed?It is said that one out of...\n",
      "983    How many dimensions are we really able to perc...\n",
      "984    What are the nine rules of using capital lette...\n",
      "985    Is there going to be a next generation of the ...\n",
      "986    how do i find my sisters blog?nanWhy don't you...\n",
      "987    Why is the USA still pressuring Cuba , althoug...\n",
      "988    why do guys hurt girls but they say they love ...\n",
      "989                  who will win the rose bowl?nanTEXAS\n",
      "990    what makes your mouth water?nanchocolate and o...\n",
      "991    finger eleven?Who all out there likes their so...\n",
      "992    how do you find if ou have a credit card in yo...\n",
      "993    If you hold it to tight it will fall out of yo...\n",
      "994    Who will be ranked #1 at the end of the NCCA M...\n",
      "995    how do i call alaska from italy?nanI call Alas...\n",
      "996    How does website like YouTube make money or at...\n",
      "997    I keep getting kick off the internet by Micros...\n",
      "998    why am i alive?nanbecause God is keeping you a...\n",
      "999    how do you delete a old yahoo account?nango to...\n",
      "Name: 1, Length: 1000, dtype: object\n"
     ]
    }
   ],
   "source": [
    "df = pd.read_csv('./yahoo_answers_csv/train.csv', header = None, nrows = 1000)\n",
    "Y_train = df[0]\n",
    "df.drop(df.columns[0],axis=1,inplace=True)\n",
    "df[df.columns[0]] = df[df.columns[0]].map(str) + df[df.columns[1]].map(str)+ df[df.columns[2]].map(str)\n",
    "df.drop(df.columns[[1,2]],axis=1,inplace=True)\n",
    "l = 1014\n",
    "X_train = df[df.columns[0]].apply(lambda x: x[:l] ) # 5\n",
    "print(X_train)\n"
   ]
  },
  {
   "cell_type": "code",
   "execution_count": 163,
   "metadata": {
    "collapsed": false
   },
   "outputs": [
    {
     "name": "stderr",
     "output_type": "stream",
     "text": [
      "/usr/local/lib/python2.7/site-packages/ipykernel/__main__.py:2: DeprecationWarning: The binary mode of fromstring is deprecated, as it behaves surprisingly on unicode inputs. Use frombuffer instead\n",
      "  from ipykernel import kernelapp as app\n"
     ]
    },
    {
     "name": "stdout",
     "output_type": "stream",
     "text": [
      "(1000,)\n",
      "(1000,)\n"
     ]
    }
   ],
   "source": [
    "def oneHotEncoder(x):\n",
    "    idxs = np.fromstring(x,dtype=np.uint8)-97\n",
    "    one_hot = tf.one_hot(idxs, 70, dtype=tf.uint8)\n",
    "    return one_hot.eval()\n",
    "\n",
    "sess = tf.InteractiveSession()\n",
    "oneHotEncoder(\"hello\")\n",
    "X = X_train.apply(lambda x: oneHotEncoder(x))\n",
    "print(X.shape)\n",
    "print(Y_train.shape)\n"
   ]
  },
  {
   "cell_type": "code",
   "execution_count": 157,
   "metadata": {
    "collapsed": false
   },
   "outputs": [
    {
     "name": "stdout",
     "output_type": "stream",
     "text": [
      "((100,), (482, 70))\n",
      "(100, 1)\n",
      "(100, 1014, 70)\n",
      "[0 0 0 0 0 0 0 1 0 0 0 0 0 0 0 0 0 0 0 0 0 0 0 0 0 0 0 0 0 0 0 0 0 0 0 0 0\n",
      " 0 0 0 0 0 0 0 0 0 0 0 0 0 0 0 0 0 0 0 0 0 0 0 0 0 0 0 0 0 0 0 0 0]\n",
      "100\n",
      "(100, 1)\n"
     ]
    }
   ],
   "source": [
    "print(X.shape, X[3].shape)\n",
    "print(Y_train.shape)\n",
    "X_int = np.zeros((X.shape[0], L, X[0].shape[1]), dtype=int)\n",
    "print(X_int.shape)\n",
    "for idx, x_val in enumerate(X):\n",
    "    #print(x_val.shape)\n",
    "    x_val2 = copy.deepcopy(x_val)\n",
    "    x_val2.resize((L, X[0].shape[1]))\n",
    "    X_int[idx] = x_val2\n",
    "#print(X_int)\n",
    "print(X_int[78][0])\n",
    "#print(X_int.dtype.base_dtype)\n",
    "print(X_int.shape[0])\n",
    "\n",
    "Y_train = Y_train.reshape(Y_train.shape[0],1)\n",
    "print(Y_train.shape)\n"
   ]
  },
  {
   "cell_type": "code",
   "execution_count": 159,
   "metadata": {
    "collapsed": false
   },
   "outputs": [
    {
     "name": "stdout",
     "output_type": "stream",
     "text": [
      "('x.shape', TensorShape([Dimension(None), Dimension(1014), Dimension(70)]))\n",
      "('y.shape', TensorShape([Dimension(None), Dimension(1)]))\n",
      "('X_int[0, :,  :]', (1014, 70))\n",
      "('X.shape:', (100, 1014, 70), 'Y.shape:', (100, 1))\n",
      "Cost after epoch 0: 2.429363\n",
      "('X.shape:', (100, 1014, 70), 'Y.shape:', (100, 1))\n",
      "Cost after epoch 1: 2.189119\n",
      "('X.shape:', (100, 1014, 70), 'Y.shape:', (100, 1))\n",
      "Cost after epoch 2: 2.187546\n",
      "('X.shape:', (100, 1014, 70), 'Y.shape:', (100, 1))\n",
      "Cost after epoch 3: 2.187456\n",
      "('X.shape:', (100, 1014, 70), 'Y.shape:', (100, 1))\n",
      "Cost after epoch 4: 2.187456\n"
     ]
    },
    {
     "ename": "NameError",
     "evalue": "name 'learning_rate' is not defined",
     "output_type": "error",
     "traceback": [
      "\u001b[0;31m---------------------------------------------------------------------------\u001b[0m",
      "\u001b[0;31mNameError\u001b[0m                                 Traceback (most recent call last)",
      "\u001b[0;32m<ipython-input-159-7f129ea8796b>\u001b[0m in \u001b[0;36m<module>\u001b[0;34m()\u001b[0m\n\u001b[1;32m    145\u001b[0m     \u001b[0mplt\u001b[0m\u001b[0;34m.\u001b[0m\u001b[0mylabel\u001b[0m\u001b[0;34m(\u001b[0m\u001b[0;34m'cost'\u001b[0m\u001b[0;34m)\u001b[0m\u001b[0;34m\u001b[0m\u001b[0m\n\u001b[1;32m    146\u001b[0m     \u001b[0mplt\u001b[0m\u001b[0;34m.\u001b[0m\u001b[0mxlabel\u001b[0m\u001b[0;34m(\u001b[0m\u001b[0;34m'iterations (per tens)'\u001b[0m\u001b[0;34m)\u001b[0m\u001b[0;34m\u001b[0m\u001b[0m\n\u001b[0;32m--> 147\u001b[0;31m     \u001b[0mplt\u001b[0m\u001b[0;34m.\u001b[0m\u001b[0mtitle\u001b[0m\u001b[0;34m(\u001b[0m\u001b[0;34m\"Learning rate =\"\u001b[0m \u001b[0;34m+\u001b[0m \u001b[0mstr\u001b[0m\u001b[0;34m(\u001b[0m\u001b[0mlearning_rate\u001b[0m\u001b[0;34m)\u001b[0m\u001b[0;34m)\u001b[0m\u001b[0;34m\u001b[0m\u001b[0m\n\u001b[0m\u001b[1;32m    148\u001b[0m     \u001b[0mplt\u001b[0m\u001b[0;34m.\u001b[0m\u001b[0mshow\u001b[0m\u001b[0;34m(\u001b[0m\u001b[0;34m)\u001b[0m\u001b[0;34m\u001b[0m\u001b[0m\n\u001b[1;32m    149\u001b[0m \u001b[0;34m\u001b[0m\u001b[0m\n",
      "\u001b[0;31mNameError\u001b[0m: name 'learning_rate' is not defined"
     ]
    },
    {
     "data": {
      "image/png": "[encoded data removed]",
      "text/plain": [
       "<matplotlib.figure.Figure at 0x119282610>"
      ]
     },
     "metadata": {},
     "output_type": "display_data"
    }
   ],
   "source": [
    "def random_mini_batches(X, Y, mini_batch_size = 64, seed = 0):\n",
    "    \"\"\"\n",
    "    Creates a list of random minibatches from (X, Y)\n",
    "    \n",
    "    Arguments:\n",
    "    X -- input data, of shape (input size, number of examples)\n",
    "    Y -- true \"label\" vector (containing 0 if cat, 1 if non-cat), of shape (1, number of examples)\n",
    "    mini_batch_size - size of the mini-batches, integer\n",
    "    seed -- this is only for the purpose of grading, so that you're \"random minibatches are the same as ours.\n",
    "    \n",
    "    Returns:\n",
    "    mini_batches -- list of synchronous (mini_batch_X, mini_batch_Y)\n",
    "    \"\"\"\n",
    "    \n",
    "    m = X.shape[0]                  # number of training examples\n",
    "    mini_batches = []\n",
    "    np.random.seed(seed)\n",
    "    \n",
    "    # Step 1: Shuffle (X, Y)\n",
    "    permutation = list(np.random.permutation(m))\n",
    "    #print('X.shape:', X.shape, 'Y.shape:', Y.shape)\n",
    "    shuffled_X = X[permutation, :, :]\n",
    "    \n",
    "    shuffled_Y = Y[permutation, :] #.reshape((m, Y.shape[1]))\n",
    "\n",
    "    # Step 2: Partition (shuffled_X, shuffled_Y). Minus the end case.\n",
    "    num_complete_minibatches = int(math.floor(m/mini_batch_size)) # number of mini batches of size mini_batch_size in your partitionning\n",
    "    for k in range(0, num_complete_minibatches):\n",
    "        mini_batch_X = shuffled_X[k * mini_batch_size : k * mini_batch_size + mini_batch_size, :, :]\n",
    "        mini_batch_Y = shuffled_Y[k * mini_batch_size : k * mini_batch_size + mini_batch_size, :]\n",
    "        mini_batch = (mini_batch_X, mini_batch_Y)\n",
    "        mini_batches.append(mini_batch)\n",
    "    \n",
    "    # Handling the end case (last mini-batch < mini_batch_size)\n",
    "    if m % mini_batch_size != 0:\n",
    "        mini_batch_X = shuffled_X[num_complete_minibatches * mini_batch_size : m, :, :]\n",
    "        mini_batch_Y = shuffled_Y[num_complete_minibatches * mini_batch_size : m, :]\n",
    "        mini_batch = (mini_batch_X, mini_batch_Y)\n",
    "        mini_batches.append(mini_batch)\n",
    "    \n",
    "    return mini_batches\n",
    "\n",
    "# clear old variables\n",
    "tf.reset_default_graph()\n",
    "\n",
    "# setup input (e.g. the data that changes every batch)\n",
    "# The first dim is None, and gets sets automatically based on batch size fed in\n",
    "L = l # 1014 \n",
    "NUM_FILTERS = 256 # 1024 for large, 256 for small\n",
    "NOUT = 1024 # 2048 for large, 1024 for small \n",
    "NUM_CHAR_OPTIONS = 70\n",
    "STD_INIT = 0.02 # 0.02 for large, 0.05 for small \n",
    "x = tf.placeholder(tf.float32, [None, L, NUM_CHAR_OPTIONS])\n",
    "y = tf.placeholder(tf.int64, [None, 1])\n",
    "is_training = tf.placeholder(tf.bool)\n",
    "\n",
    "num_epochs = 5\n",
    "minibatch_size = 10\n",
    "seed = 1\n",
    "num_categories = 10\n",
    "costs = [] \n",
    "\n",
    "def simple_model(x,y):    \n",
    "    conv1 = tf.layers.conv1d(x, filters=NUM_FILTERS, kernel_size=7, strides=1, padding='SAME', \n",
    "                                   kernel_initializer=tf.initializers.random_normal(mean=0, stddev=STD_INIT), \n",
    "                                   # defaults to NWC\n",
    "                                   activation=tf.nn.relu, reuse=None, name=\"conv1\") \n",
    "    pool1 = tf.layers.max_pooling1d(conv1, pool_size=3, strides=1, padding='VALID', data_format='channels_last', name=\"pool1\") \n",
    "    \n",
    "    conv2 = tf.layers.conv1d(pool1, filters=NUM_FILTERS, kernel_size=7, strides=1, padding='SAME', \n",
    "                                   activation=tf.nn.relu, reuse=None, name=\"conv2\") \n",
    "    pool2 = tf.layers.max_pooling1d(conv2, pool_size=3, strides=1, padding='VALID', data_format='channels_last', name=\"pool2\")\n",
    "    \n",
    "    conv3 = tf.layers.conv1d(pool2, filters=NUM_FILTERS, kernel_size=3, strides=1, padding='SAME', \n",
    "                                   activation=tf.nn.relu, reuse=None, name=\"conv3\") \n",
    "    \n",
    "    conv4 = tf.layers.conv1d(conv3, filters=NUM_FILTERS, kernel_size=3, strides=1, padding='SAME', \n",
    "                                   activation=tf.nn.relu, reuse=None, name=\"conv4\") \n",
    "    \n",
    "    conv5 = tf.layers.conv1d(conv4, filters=NUM_FILTERS, kernel_size=3, strides=1, padding='SAME', \n",
    "                                   activation=tf.nn.relu, reuse=None, name=\"conv5\") \n",
    "    \n",
    "    conv6 = tf.layers.conv1d(conv5, filters=NUM_FILTERS, kernel_size=3, strides=1, padding='SAME', \n",
    "                                   activation=tf.nn.relu, reuse=None, name=\"conv6\") \n",
    "    pool6 = tf.layers.max_pooling1d(conv6, pool_size=3, strides=1, padding='VALID', data_format='channels_last', name=\"pool6\")\n",
    "    \n",
    "    fc7 = tf.contrib.layers.fully_connected(inputs=tf.contrib.layers.flatten(pool6), num_outputs=NOUT, reuse=None, \n",
    "                                      scope=\"fc7\")\n",
    "    fc8 = tf.contrib.layers.fully_connected(inputs=tf.contrib.layers.flatten(fc7), num_outputs=NOUT, reuse=None, \n",
    "                                      scope=\"fc8\")\n",
    "    fc9 = tf.contrib.layers.fully_connected(inputs=tf.contrib.layers.flatten(fc7), num_outputs=num_categories, reuse=None, \n",
    "                                      scope=\"fc9\")\n",
    "    \n",
    "    return fc9\n",
    "\n",
    "print('x.shape', x.shape)\n",
    "print('y.shape', y.shape)\n",
    "print('X_int[0, :,  :]', X_int[0, :,  :].shape)\n",
    "y_out = simple_model(x,y)\n",
    "\n",
    "# define our loss\n",
    "total_loss = tf.nn.softmax_cross_entropy_with_logits(logits = y_out, labels = tf.one_hot(y, 10)) # yahoo \n",
    "\n",
    "# tf.losses.hinge_loss(tf.one_hot(y,10),logits=y_out)\n",
    "mean_loss = tf.reduce_mean(total_loss)\n",
    "\n",
    "# define our optimizer\n",
    "optimizer = tf.train.AdamOptimizer(5e-4).minimize(mean_loss)\n",
    "\n",
    "init = tf.global_variables_initializer()\n",
    "              \n",
    "with tf.Session() as sess:\n",
    "    sess.run(init)\n",
    "    # should loop over minibatches\n",
    "    for epoch in range(num_epochs):\n",
    "        #print epoch\n",
    "        epoch_cost = 0.                       # Defines a cost related to an epoch\n",
    "        num_minibatches = int(X_int.shape[0] / minibatch_size) # number of minibatches of size minibatch_size in the train set\n",
    "        seed = seed + 1\n",
    "        minibatches = random_mini_batches(X_int, Y_train, minibatch_size, seed)\n",
    "        #minibatches = copy.deepcopy(minibatches_result)\n",
    "        \n",
    "        for minibatch in minibatches:\n",
    "\n",
    "            # Select a minibatch\n",
    "            (minibatch_X, minibatch_Y) = minibatch\n",
    "                \n",
    "            # IMPORTANT: The line that runs the graph on a minibatch.\n",
    "            # Run the session to execute the \"optimizer\" and the \"cost\", the feedict should contain a minibatch for (X,Y).\n",
    "            ### START CODE HERE ### (1 line)\n",
    "            #print('minibatch shapes:', minibatch_X.shape, minibatch_Y.shape)\n",
    "            _ , minibatch_cost = sess.run([optimizer, mean_loss], feed_dict={x: minibatch_X, y: minibatch_Y})\n",
    "            ### END CODE HERE ###\n",
    "                \n",
    "            epoch_cost += minibatch_cost / num_minibatches\n",
    "\n",
    "        # Print the cost every epoch\n",
    "        if epoch % 1 == 0: #100\n",
    "            print (\"Cost after epoch %i: %f\" % (epoch, epoch_cost))\n",
    "        if epoch % 1 == 0: #5\n",
    "            costs.append(epoch_cost)\n",
    "                \n",
    "    # plot the cost\n",
    "    plt.plot(np.squeeze(costs))\n",
    "    plt.ylabel('cost')\n",
    "    plt.xlabel('iterations (per tens)')\n",
    "    plt.title(\"Learning rate =\" + str(5e-4))\n",
    "    plt.show()\n",
    "\n",
    "    # lets save the parameters in a variable\n",
    "    #parameters = sess.run(parameters)\n",
    "    #print (\"Parameters have been trained!\")\n",
    "\n",
    "    # Calculate the correct predictions\n",
    "    correct_prediction = tf.equal(tf.argmax(y_out), tf.argmax(y))\n",
    "\n",
    "    # Calculate accuracy on the test set\n",
    "    accuracy = tf.reduce_mean(tf.cast(correct_prediction, \"float\"))\n",
    "\n",
    "    print (\"Train Accuracy:\", accuracy.eval({X: X_int, Y: Y_train}))\n",
    "    #print (\"Test Accuracy:\", accuracy.eval({X: X_test, Y: Y_test}))\n",
    "\n",
    "    #_ , minibatch_cost = sess.run([optimizer, cost], feed_dict={x: X_int, y: Y_train}) # minibatch_X, minibatch_Y\n",
    "    #print (\"Cost:\", minibatch_cost)\n",
    "    #result = sess.run(y_out)\n",
    "    #print result\n",
    "    "
   ]
  },
  {
   "cell_type": "code",
   "execution_count": null,
   "metadata": {
    "collapsed": true
   },
   "outputs": [],
   "source": []
  },
  {
   "cell_type": "code",
   "execution_count": null,
   "metadata": {
    "collapsed": true
   },
   "outputs": [],
   "source": []
  }
 ],
 "metadata": {
  "kernelspec": {
   "display_name": "Python 2",
   "language": "python",
   "name": "python2"
  },
  "language_info": {
   "codemirror_mode": {
    "name": "ipython",
    "version": 2
   },
   "file_extension": ".py",
   "mimetype": "text/x-python",
   "name": "python",
   "nbconvert_exporter": "python",
   "pygments_lexer": "ipython2",
   "version": "2.7.14"
  }
 },
 "nbformat": 4,
 "nbformat_minor": 1
}
