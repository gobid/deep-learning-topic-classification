{
 "cells": [
  {
   "cell_type": "markdown",
   "metadata": {},
   "source": [
    "## Character Level ConvNets project"
   ]
  },
  {
   "cell_type": "markdown",
   "metadata": {},
   "source": [
    "## Load Datasets\n"
   ]
  },
  {
   "cell_type": "code",
   "execution_count": 8,
   "metadata": {
    "collapsed": false
   },
   "outputs": [],
   "source": [
    "import tensorflow as tf\n",
    "import numpy as np\n",
    "import math\n",
    "import timeit\n",
    "import matplotlib.pyplot as plt\n",
    "%matplotlib inline\n",
    "import csv\n",
    "import pandas as pd"
   ]
  },
  {
   "cell_type": "code",
   "execution_count": 17,
   "metadata": {
    "collapsed": false
   },
   "outputs": [
    {
     "name": "stdout",
     "output_type": "stream",
     "text": [
      "0    wh\n",
      "1    Wh\n",
      "2    Wh\n",
      "3    Ho\n",
      "4    In\n",
      "5    Wh\n",
      "6    Wh\n",
      "7    Is\n",
      "8    Wh\n",
      "9    Ho\n",
      "Name: 1, dtype: object\n"
     ]
    }
   ],
   "source": [
    "df = pd.read_csv('./yahoo_answers_csv/train.csv', header = None, nrows = 10)\n",
    "Y_train = df[0]\n",
    "df.drop(df.columns[0],axis=1,inplace=True)\n",
    "df[df.columns[0]] = df[df.columns[0]].map(str) + df[df.columns[1]].map(str)+ df[df.columns[2]].map(str)\n",
    "df.drop(df.columns[[1,2]],axis=1,inplace=True)\n",
    "l = 2\n",
    "X_train = df[df.columns[0]].apply(lambda x: x[:l] )\n",
    "print(X_train)\n"
   ]
  },
  {
   "cell_type": "code",
   "execution_count": 21,
   "metadata": {
    "collapsed": false
   },
   "outputs": [
    {
     "name": "stderr",
     "output_type": "stream",
     "text": [
      "/usr/local/lib/python2.7/site-packages/ipykernel/__main__.py:2: DeprecationWarning: The binary mode of fromstring is deprecated, as it behaves surprisingly on unicode inputs. Use frombuffer instead\n",
      "  from ipykernel import kernelapp as app\n"
     ]
    },
    {
     "name": "stdout",
     "output_type": "stream",
     "text": [
      "0    [[0, 0, 0, 0, 0, 0, 0, 0, 0, 0, 0, 0, 0, 0, 0,...\n",
      "1    [[0, 0, 0, 0, 0, 0, 0, 0, 0, 0, 0, 0, 0, 0, 0,...\n",
      "2    [[0, 0, 0, 0, 0, 0, 0, 0, 0, 0, 0, 0, 0, 0, 0,...\n",
      "3    [[0, 0, 0, 0, 0, 0, 0, 0, 0, 0, 0, 0, 0, 0, 0,...\n",
      "4    [[0, 0, 0, 0, 0, 0, 0, 0, 0, 0, 0, 0, 0, 0, 0,...\n",
      "5    [[0, 0, 0, 0, 0, 0, 0, 0, 0, 0, 0, 0, 0, 0, 0,...\n",
      "6    [[0, 0, 0, 0, 0, 0, 0, 0, 0, 0, 0, 0, 0, 0, 0,...\n",
      "7    [[0, 0, 0, 0, 0, 0, 0, 0, 0, 0, 0, 0, 0, 0, 0,...\n",
      "8    [[0, 0, 0, 0, 0, 0, 0, 0, 0, 0, 0, 0, 0, 0, 0,...\n",
      "9    [[0, 0, 0, 0, 0, 0, 0, 0, 0, 0, 0, 0, 0, 0, 0,...\n",
      "Name: 1, dtype: object\n"
     ]
    }
   ],
   "source": [
    "def oneHotEncoder(x):\n",
    "    idxs = np.fromstring(x,dtype=np.uint8)-97\n",
    "    one_hot = tf.one_hot(idxs,70, dtype=tf.uint8)\n",
    "    sess = tf.InteractiveSession()\n",
    "    return one_hot.eval()\n",
    "\n",
    "oneHotEncoder(\"hello\")\n",
    "X = X_train.apply(lambda x: oneHotEncoder(x))\n",
    "print(X)"
   ]
  },
  {
   "cell_type": "code",
   "execution_count": null,
   "metadata": {
    "collapsed": true
   },
   "outputs": [],
   "source": [
    "# clear old variables\n",
    "tf.reset_default_graph()\n",
    "\n",
    "# setup input (e.g. the data that changes every batch)\n",
    "# The first dim is None, and gets sets automatically based on batch size fed in\n",
    "L = 1024 # 1014, 1024 for large 256 for small\n",
    "NOUT = 2048 # 2048 for large, 1024 for small \n",
    "NUM_CHARS = 70\n",
    "STD_INIT = 0.02 # 0.02 for large, 0.05 for small \n",
    "X = tf.placeholder(tf.float32, [None, NUM_CHARS, L])\n",
    "y = tf.placeholder(tf.int64, [None])\n",
    "is_training = tf.placeholder(tf.bool)\n",
    "\n",
    "def simple_model(X,y):    \n",
    "    conv1 = tf.contrib.layers.conv1d(X, filters=1, kernel_size=7, stride=1, padding='SAME', \n",
    "                                   kernel_initializer=tf.initializers.random_normal(mean=0, stddev=STD_INIT), \n",
    "                                     # is this correct\n",
    "                                   activation_fn=tf.nn.relu, reuse=None, scope=\"conv1\") \n",
    "    pool1 = tf.nn.max_pool(value=conv1, pool_size=3, strides=1, padding='VALID', data_format='NHWC', scope=\"pool1\") \n",
    "    \n",
    "    conv2 = tf.contrib.layers.conv1d(pool1, filters=1, kernel_size=7, stride=1, padding='SAME', \n",
    "                                   activation_fn=tf.nn.relu, reuse=None, scope=\"conv2\") \n",
    "    pool2 = tf.nn.max_pool(value=conv2, pool_size=3, strides=1, padding='VALID', data_format='NHWC', scope=\"pool2\")\n",
    "    \n",
    "    conv3 = tf.contrib.layers.conv1d(pool2, filters=1, kernel_size=3, stride=1, padding='SAME', \n",
    "                                   activation_fn=tf.nn.relu, reuse=None, scope=\"conv3\") \n",
    "    \n",
    "    conv4 = tf.contrib.layers.conv1d(conv3, filters=1, kernel_size=3, stride=1, padding='SAME', \n",
    "                                   activation_fn=tf.nn.relu, reuse=None, scope=\"conv4\") \n",
    "    \n",
    "    conv5 = tf.contrib.layers.conv1d(conv4, filters=1, kernel_size=3, stride=1, padding='SAME', \n",
    "                                   activation_fn=tf.nn.relu, reuse=None, scope=\"conv5\") \n",
    "    \n",
    "    conv6 = tf.contrib.layers.conv1d(conv5, filters=1, kernel_size=3, stride=1, padding='SAME', \n",
    "                                   activation_fn=tf.nn.relu, reuse=None, scope=\"conv6\") \n",
    "    pool6 = tf.nn.max_pool(value=conv6, pool_size=3, strides=1, padding='VALID', data_format='NHWC', scope=\"pool6\")\n",
    "    \n",
    "    fc7 = tf.contrib.layers.fully_connected(inputs=tf.contrib.layers.flatten(pool6), num_outputs=NOUT, reuse=None, \n",
    "                                      scope=\"fc7\")\n",
    "    fc8 = tf.contrib.layers.fully_connected(inputs=tf.contrib.layers.flatten(fc7), num_outputs=NOUT, reuse=None, \n",
    "                                      scope=\"fc8\")\n",
    "    \n",
    "    return fc8\n",
    "\n",
    "y_out = simple_model(X,y)\n",
    "\n",
    "# define our loss\n",
    "total_loss = tf.losses.hinge_loss(tf.one_hot(y,10),logits=y_out)\n",
    "mean_loss = tf.reduce_mean(total_loss)\n",
    "\n",
    "# define our optimizer\n",
    "optimizer = tf.train.AdamOptimizer(5e-4) # select optimizer and set learning rate\n",
    "train_step = optimizer.minimize(mean_loss)"
   ]
  }
 ],
 "metadata": {
  "kernelspec": {
   "display_name": "Python 2",
   "language": "python",
   "name": "python2"
  },
  "language_info": {
   "codemirror_mode": {
    "name": "ipython",
    "version": 2
   },
   "file_extension": ".py",
   "mimetype": "text/x-python",
   "name": "python",
   "nbconvert_exporter": "python",
   "pygments_lexer": "ipython2",
   "version": "2.7.14"
  }
 },
 "nbformat": 4,
 "nbformat_minor": 1
}
