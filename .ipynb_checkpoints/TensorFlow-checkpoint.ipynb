{
 "cells": [
  {
   "cell_type": "markdown",
   "metadata": {},
   "source": [
    "## Character Level ConvNets project"
   ]
  },
  {
   "cell_type": "markdown",
   "metadata": {},
   "source": [
    "## Load Datasets\n"
   ]
  },
  {
   "cell_type": "code",
   "execution_count": null,
   "metadata": {
    "collapsed": false
   },
   "outputs": [],
   "source": [
    "import tensorflow as tf\n",
    "import numpy as np\n",
    "import math\n",
    "import timeit\n",
    "import matplotlib.pyplot as plt\n",
    "%matplotlib inline\n",
    "import csv\n",
    "import pandas as pd"
   ]
  },
  {
   "cell_type": "code",
   "execution_count": 6,
   "metadata": {
    "collapsed": true
   },
   "outputs": [],
   "source": [
    "X_train = pd.read_csv('./yahoo_answers_csv/train.csv', header = None, nrows = 100)"
   ]
  },
  {
   "cell_type": "code",
   "execution_count": null,
   "metadata": {
    "collapsed": false
   },
   "outputs": [],
   "source": [
    "print(X_train)"
   ]
  },
  {
   "cell_type": "code",
   "execution_count": null,
   "metadata": {
    "collapsed": true
   },
   "outputs": [],
   "source": [
    "# clear old variables\n",
    "tf.reset_default_graph()\n",
    "\n",
    "# setup input (e.g. the data that changes every batch)\n",
    "# The first dim is None, and gets sets automatically based on batch size fed in\n",
    "L = 1024 # 1014, 1024 for large 256 for small\n",
    "NOUT = 2048 # 2048 for large, 1024 for small \n",
    "NUM_CHARS = 70\n",
    "X = tf.placeholder(tf.float32, [None, NUM_CHARS, L])\n",
    "y = tf.placeholder(tf.int64, [None])\n",
    "is_training = tf.placeholder(tf.bool)\n",
    "\n",
    "def simple_model(X,y):    \n",
    "    conv1 = tf.contrib.layers.conv1d(X, filters=1, kernel_size=7, stride=1, padding='SAME', \n",
    "                                   activation_fn=tf.nn.relu, reuse=None, scope=\"conv1\") \n",
    "    pool1 = tf.nn.max_pool(value=conv1, pool_size=3, strides=1, padding='VALID', data_format='NHWC', scope=\"pool1\") \n",
    "    \n",
    "    conv2 = tf.contrib.layers.conv1d(pool1, filters=1, kernel_size=7, stride=1, padding='SAME', \n",
    "                                   activation_fn=tf.nn.relu, reuse=None, scope=\"conv2\") \n",
    "    pool2 = tf.nn.max_pool(value=conv2, pool_size=3, strides=1, padding='VALID', data_format='NHWC', scope=\"pool2\")\n",
    "    \n",
    "    conv3 = tf.contrib.layers.conv1d(pool2, filters=1, kernel_size=3, stride=1, padding='SAME', \n",
    "                                   activation_fn=tf.nn.relu, reuse=None, scope=\"conv3\") \n",
    "    \n",
    "    conv4 = tf.contrib.layers.conv1d(conv3, filters=1, kernel_size=3, stride=1, padding='SAME', \n",
    "                                   activation_fn=tf.nn.relu, reuse=None, scope=\"conv4\") \n",
    "    \n",
    "    conv5 = tf.contrib.layers.conv1d(conv4, filters=1, kernel_size=3, stride=1, padding='SAME', \n",
    "                                   activation_fn=tf.nn.relu, reuse=None, scope=\"conv5\") \n",
    "    \n",
    "    conv6 = tf.contrib.layers.conv1d(conv5, filters=1, kernel_size=3, stride=1, padding='SAME', \n",
    "                                   activation_fn=tf.nn.relu, reuse=None, scope=\"conv6\") \n",
    "    pool6 = tf.nn.max_pool(value=conv6, pool_size=3, strides=1, padding='VALID', data_format='NHWC', scope=\"pool6\")\n",
    "    \n",
    "    fc7 = tf.contrib.layers.fully_connected(inputs=tf.contrib.layers.flatten(pool6), num_outputs=NOUT, reuse=None, \n",
    "                                      scope=\"fc7\")\n",
    "    fc8 = tf.contrib.layers.fully_connected(inputs=tf.contrib.layers.flatten(fc7), num_outputs=NOUT, reuse=None, \n",
    "                                      scope=\"fc8\")\n",
    "    \n",
    "    return fc8\n",
    "\n",
    "y_out = simple_model(X,y)\n",
    "\n",
    "# define our loss\n",
    "total_loss = tf.losses.hinge_loss(tf.one_hot(y,10),logits=y_out)\n",
    "mean_loss = tf.reduce_mean(total_loss)\n",
    "\n",
    "# define our optimizer\n",
    "optimizer = tf.train.AdamOptimizer(5e-4) # select optimizer and set learning rate\n",
    "train_step = optimizer.minimize(mean_loss)"
   ]
  }
 ],
 "metadata": {
  "kernelspec": {
   "display_name": "Python 2",
   "language": "python",
   "name": "python2"
  },
  "language_info": {
   "codemirror_mode": {
    "name": "ipython",
    "version": 2
   },
   "file_extension": ".py",
   "mimetype": "text/x-python",
   "name": "python",
   "nbconvert_exporter": "python",
   "pygments_lexer": "ipython2",
   "version": "2.7.14"
  }
 },
 "nbformat": 4,
 "nbformat_minor": 1
}
